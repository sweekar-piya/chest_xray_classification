{
 "cells": [
  {
   "cell_type": "code",
   "execution_count": 1,
   "id": "79bec4b5-8571-41d3-9496-9a488e010dc7",
   "metadata": {},
   "outputs": [],
   "source": [
    "import pandas as pd\n",
    "import numpy as np\n",
    "import matplotlib.pyplot as plt\n",
    "\n",
    "import tensorflow as tf\n",
    "from tensorflow.keras.utils import image_dataset_from_directory"
   ]
  },
  {
   "cell_type": "code",
   "execution_count": 10,
   "id": "6a1ce7a2-f713-4f29-ae3b-7950d42f8e38",
   "metadata": {},
   "outputs": [],
   "source": [
    "# Specify which GPU to use (e.g., GPU 0)\n",
    "gpus = tf.config.experimental.list_physical_devices('GPU')\n",
    "if gpus:\n",
    "    tf.config.experimental.set_memory_growth(gpus[0], True)"
   ]
  },
  {
   "cell_type": "code",
   "execution_count": 11,
   "id": "62b5e1d2-5ed5-4f3d-923d-f325734ef730",
   "metadata": {},
   "outputs": [
    {
     "data": {
      "text/plain": [
       "[]"
      ]
     },
     "execution_count": 11,
     "metadata": {},
     "output_type": "execute_result"
    }
   ],
   "source": [
    "tf.config.experimental.list_physical_devices('GPU')"
   ]
  },
  {
   "cell_type": "code",
   "execution_count": 2,
   "id": "581d32e6-4615-47b9-9c79-c67ab6cdb481",
   "metadata": {},
   "outputs": [],
   "source": [
    "# Define the batch size and image dimensions\n",
    "batch_size = 64\n",
    "img_height = 224\n",
    "img_width = 224\n",
    "\n",
    "# Define the path to your dataset folder\n",
    "training_data_dir = \"../data/chest_xray/train/\"\n",
    "val_data_dir = \"../data/chest_xray/val\"\n",
    "test_data_dir = \"../data/chest_xray/test/\""
   ]
  },
  {
   "cell_type": "code",
   "execution_count": 3,
   "id": "d0a4d53e-8fe0-4b65-afe5-72f22695463d",
   "metadata": {},
   "outputs": [],
   "source": [
    "params = {\n",
    "    \"labels\":\"inferred\",  # Automatically infer class labels from subdirectories\n",
    "    \"label_mode\":\"categorical\",  # Use categorical labels\n",
    "    \"class_names\":None,  # Automatically get class names from subdirectories\n",
    "    \"color_mode\":\"rgb\",  # Use 'rgb' for color images or 'grayscale' for grayscale\n",
    "    \"batch_size\":batch_size,\n",
    "    \"image_size\":(img_height, img_width),\n",
    "    \"shuffle\":True,  # Shuffle the dataset\n",
    "    \"seed\":123,  # Set a seed for reproducibility\n",
    "}"
   ]
  },
  {
   "cell_type": "code",
   "execution_count": 4,
   "id": "299f7a5e-c307-4676-8498-5a37f4e5654c",
   "metadata": {},
   "outputs": [
    {
     "name": "stdout",
     "output_type": "stream",
     "text": [
      "Found 5216 files belonging to 2 classes.\n",
      "Found 16 files belonging to 2 classes.\n",
      "Found 624 files belonging to 2 classes.\n"
     ]
    }
   ],
   "source": [
    "# Create a TensorFlow dataset from the directory\n",
    "training_dataset = image_dataset_from_directory(\n",
    "    training_data_dir,\n",
    "    **params,\n",
    ")\n",
    "val_dataset = image_dataset_from_directory(\n",
    "    val_data_dir,\n",
    "    **params,\n",
    ")\n",
    "test_dataset = image_dataset_from_directory(\n",
    "    test_data_dir,\n",
    "    **params,\n",
    ")"
   ]
  },
  {
   "cell_type": "code",
   "execution_count": 17,
   "id": "8cbeb4d2-989e-4444-8113-0f2ed7617483",
   "metadata": {},
   "outputs": [
    {
     "name": "stdout",
     "output_type": "stream",
     "text": [
      "['NORMAL', 'PNEUMONIA']\n",
      "(TensorSpec(shape=(None, 224, 224, 3), dtype=tf.float32, name=None), TensorSpec(shape=(None, 2), dtype=tf.float32, name=None))\n"
     ]
    }
   ],
   "source": [
    "# Print the class names\n",
    "print(training_dataset.class_names)\n",
    "\n",
    "# Print the dataset information\n",
    "print(training_dataset.element_spec)"
   ]
  },
  {
   "cell_type": "code",
   "execution_count": 18,
   "id": "4b1b2beb-099c-44ea-9b09-5253040ad75a",
   "metadata": {},
   "outputs": [],
   "source": [
    "class BasicCNN(tf.keras.Model):\n",
    "    def __init__(self):\n",
    "        super(BasicCNN, self).__init__()\n",
    "        self.conv_block_1 = tf.keras.Sequential([\n",
    "            Conv2D(64, (3, 3), padding='same', strides=1, input_shape=(None, 3, 64, 64)),\n",
    "            BatchNormalization(),\n",
    "            ReLU()\n",
    "        ])\n",
    "        self.conv_block_2 = tf.keras.Sequential([\n",
    "            Conv2D(128, (3, 3), padding='same', strides=1),\n",
    "            BatchNormalization(),\n",
    "            ReLU()\n",
    "        ])\n",
    "        self.conv_block_3 = tf.keras.Sequential([\n",
    "            Conv2D(128, (3, 3), padding='same', strides=1),\n",
    "            BatchNormalization(),\n",
    "            ReLU()\n",
    "        ])\n",
    "\n",
    "        self.pool = MaxPooling2D(pool_size=(2, 2))\n",
    "        self.flatten = Flatten()\n",
    "        self.fc = Dense(1)\n",
    "        self.sigmoid = sigmoid\n",
    "\n",
    "    def call(self, x):\n",
    "        x = self.pool(self.conv_block_1(x))\n",
    "        x = self.pool(self.conv_block_2(x))\n",
    "        x = self.pool(self.conv_block_3(x))\n",
    "        x = self.flatten(x)\n",
    "        x = self.sigmoid(self.fc(x))\n",
    "        return x"
   ]
  },
  {
   "cell_type": "code",
   "execution_count": null,
   "id": "014cb6a2-a8aa-45d9-bb1d-2e642dd79539",
   "metadata": {},
   "outputs": [],
   "source": []
  },
  {
   "cell_type": "code",
   "execution_count": null,
   "id": "40136239-b5b1-4149-a805-e84419d9f58c",
   "metadata": {},
   "outputs": [],
   "source": []
  },
  {
   "cell_type": "code",
   "execution_count": null,
   "id": "a62f9fc8-61d0-4e68-9aec-863485dc76ed",
   "metadata": {},
   "outputs": [],
   "source": []
  }
 ],
 "metadata": {
  "kernelspec": {
   "display_name": "chest_xray_classification",
   "language": "python",
   "name": "chest_xray_classification"
  },
  "language_info": {
   "codemirror_mode": {
    "name": "ipython",
    "version": 3
   },
   "file_extension": ".py",
   "mimetype": "text/x-python",
   "name": "python",
   "nbconvert_exporter": "python",
   "pygments_lexer": "ipython3",
   "version": "3.10.11"
  }
 },
 "nbformat": 4,
 "nbformat_minor": 5
}
