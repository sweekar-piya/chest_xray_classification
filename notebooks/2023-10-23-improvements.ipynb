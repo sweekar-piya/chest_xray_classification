{
 "cells": [
  {
   "cell_type": "markdown",
   "id": "6300c24f-3f5b-4622-8460-b7586796621b",
   "metadata": {},
   "source": [
    "# Introduction \n",
    "\n",
    "## Problem with previous experimentation\n",
    "\n",
    "- Previously, we solved the data imbalance issue using weighted loss function, however _the number of chest x-ray samples is relatively minute_ to train large CNN models.\n",
    "\n",
    "## Solution\n",
    "\n",
    "- In this notebook, I will be trying out:\n",
    "    - Additional __resampling__ to increase dataset size without altering the labels.\n",
    "    - __Transfer-learning__ (fine-tuning of the later layers) to improve the previous model performance for x-ray chest classification."
   ]
  },
  {
   "cell_type": "markdown",
   "id": "55fed26c-c1a2-40de-b99b-a89bd49f4a15",
   "metadata": {},
   "source": [
    "## Imports"
   ]
  },
  {
   "cell_type": "code",
   "execution_count": 1,
   "id": "e0706a96-127a-4a8a-8e2e-abad048512ff",
   "metadata": {},
   "outputs": [],
   "source": [
    "from pathlib import Path\n",
    "import os\n",
    "\n",
    "import numpy as np\n",
    "import pandas as pd\n",
    "from matplotlib import pyplot as plt\n",
    "import torch\n",
    "\n",
    "torch.manual_seed(0)\n",
    "%matplotlib inline"
   ]
  },
  {
   "cell_type": "code",
   "execution_count": 2,
   "id": "25e5c11e-da06-4321-a85f-db3add9127bc",
   "metadata": {},
   "outputs": [
    {
     "name": "stdout",
     "output_type": "stream",
     "text": [
      "2.1.0+cu121\n"
     ]
    }
   ],
   "source": [
    "print(torch.__version__)"
   ]
  },
  {
   "cell_type": "markdown",
   "id": "c40410ff-ca80-49ee-9f17-c0c06401d5e9",
   "metadata": {},
   "source": [
    "## Define Constants\n",
    "\n",
    "Constants will be used multiple times, as global variables, within this notebook. Let's define some. "
   ]
  },
  {
   "cell_type": "code",
   "execution_count": 3,
   "id": "b44ae16a-7ded-4f0c-b43c-43f01be9cea2",
   "metadata": {},
   "outputs": [],
   "source": [
    "# Select the device to use for training and inference.\n",
    "DEVICE = torch.device(\"cuda\" if torch.cuda.is_available() else \"cpu\") "
   ]
  },
  {
   "cell_type": "code",
   "execution_count": 4,
   "id": "50ccaa3b-b20b-497f-ba75-743cca5fe79e",
   "metadata": {},
   "outputs": [],
   "source": [
    "# directory constants\n",
    "DATA_DIR = Path(\"../data/chest_xray/\")\n",
    "MODEL_DIR = Path(\"../models/\")\n",
    "PLOT_DIR = Path(\"../plots/\")"
   ]
  },
  {
   "cell_type": "code",
   "execution_count": 5,
   "id": "6d06c1bf-702c-4088-ad29-4d3d1328c6ca",
   "metadata": {},
   "outputs": [],
   "source": [
    "# Proprocessing and Model constants\n",
    "IMAGE_SIZE = [224, 224] # resize dimensions\n",
    "BATCH_SIZE = 64 # mini-batch size\n",
    "EPOCHS = 10 # number of epochs to train\n",
    "LEARNING_RATE = 0.001 # learning rate of the model"
   ]
  },
  {
   "cell_type": "markdown",
   "id": "3a81ea58-6c71-4016-a7f3-312dd7b57b35",
   "metadata": {},
   "source": [
    "## Data Fetch, Preprocess and Visualization <a id=\"data-preprocess\"></a>"
   ]
  },
  {
   "cell_type": "code",
   "execution_count": 6,
   "id": "118f8f1a-61cc-4122-99c4-f09913c35f7a",
   "metadata": {},
   "outputs": [],
   "source": [
    "from torch.utils.data import DataLoader\n",
    "from torchvision import transforms\n",
    "from torchvision.datasets import ImageFolder\n",
    "import random"
   ]
  },
  {
   "cell_type": "markdown",
   "id": "e62611e9-f249-44c6-859b-9de48a0b4f92",
   "metadata": {},
   "source": [
    "### Data Augmentation (Transforms)"
   ]
  },
  {
   "cell_type": "markdown",
   "id": "20a24c43-76ee-401a-8299-13d011dc644b",
   "metadata": {},
   "source": [
    "Additional augmentation to be applied in this experimentation, apart from resizing and normalization, are:\n",
    "\n",
    "1. Contrast changes.\n",
    "2. Slight rotation\n",
    "3. Translation\n",
    "\n",
    "Flipping can alter the label in the dataset (heart is on opposite side, dextrocardia, a rare case in humans)."
   ]
  },
  {
   "cell_type": "code",
   "execution_count": 7,
   "id": "9cec1788-ddeb-401b-943a-9f908b3b5a50",
   "metadata": {},
   "outputs": [],
   "source": [
    "# define customer random contrast transform\n",
    "class RandomContrast(object):\n",
    "    def __init__(self, min_percentage, max_percentage):\n",
    "        self.min_percentage = min_percentage\n",
    "        self.max_percentage = max_percentage\n",
    "\n",
    "    def __call__(self, img):\n",
    "        percentage = random.uniform(self.min_percentage, self.max_percentage)\n",
    "        img = transforms.functional.adjust_contrast(img, percentage)\n",
    "        return img"
   ]
  },
  {
   "cell_type": "code",
   "execution_count": 8,
   "id": "75bea26f-c44f-4a88-b10a-b6ce4b9c10bd",
   "metadata": {},
   "outputs": [],
   "source": [
    "# define minimal transformation to be used\n",
    "minimal_transforms = transforms.Compose([\n",
    "   transforms.Resize(IMAGE_SIZE),  # Resize images to a common size\n",
    "   transforms.ToTensor(),\n",
    "])"
   ]
  },
  {
   "cell_type": "code",
   "execution_count": 9,
   "id": "8af79e89-5799-44a3-a239-50c82945e883",
   "metadata": {},
   "outputs": [],
   "source": [
    "# Define transformations for resampling\n",
    "resample_transforms = transforms.Compose([\n",
    "    transforms.Resize(IMAGE_SIZE),  # Resize images to a common size\n",
    "    RandomContrast(1.1, 1.5), # increase contrast by 20 to 50 percentage\n",
    "    transforms.RandomRotation(degrees=15), # Random rotation (+20, -20)\n",
    "    transforms.RandomAffine(0, translate=(0.1, 0.1)), # Horizontal and vertical translation\n",
    "    transforms.ToTensor(),\n",
    "])"
   ]
  },
  {
   "cell_type": "markdown",
   "id": "86e74f5a-e28a-4743-811a-a08183295a10",
   "metadata": {},
   "source": [
    "Load dataset with minimal transformations to compute mean and std dev for normalization."
   ]
  },
  {
   "cell_type": "code",
   "execution_count": 10,
   "id": "4b4f6045-fc7f-4bb5-8fe5-04295d752bd6",
   "metadata": {},
   "outputs": [],
   "source": [
    "training_dataset = ImageFolder(\n",
    "    root = DATA_DIR / \"train\",\n",
    "    transform = resample_transforms,\n",
    ")\n",
    "temp_train_loader = DataLoader(training_dataset, batch_size=25, num_workers=0, shuffle=True, drop_last=False)"
   ]
  },
  {
   "cell_type": "markdown",
   "id": "5f65843b-4055-46de-849a-883240c37258",
   "metadata": {},
   "source": [
    "Compute mean and std dev for normalization"
   ]
  },
  {
   "cell_type": "code",
   "execution_count": 11,
   "id": "afdb1197-efde-436f-8e3f-7c28a8158e7c",
   "metadata": {},
   "outputs": [],
   "source": [
    "# mean = 0.0\n",
    "\n",
    "# for images, _ in temp_train_loader:\n",
    "#     batch_samples = images.size(0)\n",
    "#     images = images.view(batch_samples, images.size(1), -1)\n",
    "#     mean += images.mean(2).sum(0)\n",
    "# mean = mean/len(temp_train_loader.dataset)\n",
    "\n",
    "# pixel_count = 0\n",
    "# var = 0.0\n",
    "# for images, _ in temp_train_loader:\n",
    "#     batch_samples = images.size(0)\n",
    "#     images = images.view(batch_samples, images.size(1), -1)\n",
    "#     var += ((images - mean.unsqueeze(1))**2).sum([0,2])\n",
    "#     pixel_count += images.nelement()\n",
    "    \n",
    "# std = torch.sqrt(var / pixel_count)"
   ]
  },
  {
   "cell_type": "code",
   "execution_count": 12,
   "id": "865239c6-ee8b-4034-b6ae-61ce2f1e4466",
   "metadata": {},
   "outputs": [],
   "source": [
    "# mean, std"
   ]
  },
  {
   "cell_type": "code",
   "execution_count": 13,
   "id": "5f1e82d9-62fd-4907-bb21-2b5c2ab41a03",
   "metadata": {},
   "outputs": [],
   "source": [
    "mean = [0.4529]*3\n",
    "std = [0.1777]*3"
   ]
  },
  {
   "cell_type": "code",
   "execution_count": 14,
   "id": "ea738779-d90e-423a-b59b-4004f9bc5e5a",
   "metadata": {},
   "outputs": [
    {
     "data": {
      "text/plain": [
       "[0.4529, 0.4529, 0.4529]"
      ]
     },
     "execution_count": 14,
     "metadata": {},
     "output_type": "execute_result"
    }
   ],
   "source": [
    "mean"
   ]
  },
  {
   "cell_type": "markdown",
   "id": "150b8ccf-a9eb-4d77-ac6f-ad6922de03ae",
   "metadata": {},
   "source": [
    "Apply transformations to:\n",
    "1. Training dataset - minimal and resampling with normalization (to increase dataset samples)\n",
    "2. Val/Test dataset - minmal transformations with normalization"
   ]
  },
  {
   "cell_type": "code",
   "execution_count": 15,
   "id": "56ea4899-fabd-40ac-8ae7-fd52a99d9d20",
   "metadata": {},
   "outputs": [],
   "source": [
    "minimal_train_transforms = transforms.Compose([\n",
    "    minimal_transforms,\n",
    "    transforms.Normalize(mean=mean, std=std), # use mean and std here.\n",
    "])"
   ]
  },
  {
   "cell_type": "code",
   "execution_count": 16,
   "id": "eeada9d0-d46a-45e8-afbe-1cd75f69a5d5",
   "metadata": {},
   "outputs": [],
   "source": [
    "minimal_val_test_transforms = transforms.Compose([\n",
    "    minimal_transforms,\n",
    "    transforms.Normalize(mean=[0.4823, 0.4823, 0.4823], std=[0.1363, 0.1363, 0.1363]) # from old experimentation\n",
    "])"
   ]
  },
  {
   "cell_type": "code",
   "execution_count": 17,
   "id": "ce2ac8bc-1225-40f8-9006-c2e2af6c03f6",
   "metadata": {},
   "outputs": [],
   "source": [
    "resample_train_transforms = transforms.Compose([\n",
    "    resample_transforms,\n",
    "    transforms.Normalize(mean=mean, std=std), # use mean and std here.\n",
    "])"
   ]
  },
  {
   "cell_type": "markdown",
   "id": "075b0ad7-8342-4d65-a3f0-73ff6366803f",
   "metadata": {},
   "source": [
    "Create the dataset loaders"
   ]
  },
  {
   "cell_type": "code",
   "execution_count": 18,
   "id": "012b4ae0-7876-4f46-be3c-71faf8a6c220",
   "metadata": {},
   "outputs": [],
   "source": [
    "train_ds_1 = ImageFolder(\n",
    "    root = DATA_DIR / \"train\",\n",
    "    transform = minimal_train_transforms,\n",
    ")\n",
    "train_ds_2 =  ImageFolder(\n",
    "    root = DATA_DIR / \"train\",\n",
    "    transform = resample_train_transforms,\n",
    ")\n",
    "val_ds = ImageFolder(\n",
    "    root = DATA_DIR / \"val\",\n",
    "    transform = minimal_val_test_transforms,\n",
    ")\n",
    "test_ds = ImageFolder(\n",
    "    root = DATA_DIR / \"test\",\n",
    "    transform = minimal_val_test_transforms,\n",
    ")"
   ]
  },
  {
   "cell_type": "code",
   "execution_count": 19,
   "id": "88c296f1-2062-4bdd-bfc7-01a3f6174ab4",
   "metadata": {},
   "outputs": [],
   "source": [
    "# Create dataset set\n",
    "extended_train_ds = train_ds_1 + train_ds_2\n",
    "train_loader = DataLoader(extended_train_ds, batch_size=BATCH_SIZE, num_workers=0, shuffle=True, drop_last=False)\n",
    "\n",
    "val_loader = DataLoader(val_ds, batch_size=BATCH_SIZE, num_workers=0, shuffle=True, drop_last=False)\n",
    "\n",
    "test_loader = DataLoader(test_ds, batch_size=BATCH_SIZE, num_workers=0, shuffle=True, drop_last=False)"
   ]
  },
  {
   "cell_type": "markdown",
   "id": "d513e5df-b3ff-471f-9d64-78818c5685d3",
   "metadata": {},
   "source": [
    "## Transfer learning"
   ]
  },
  {
   "cell_type": "markdown",
   "id": "035867de-383a-4609-9d4a-cffc88fdebd1",
   "metadata": {},
   "source": [
    "### Correction for data imbalance; weighted loss function"
   ]
  },
  {
   "cell_type": "code",
   "execution_count": 20,
   "id": "da4d6216-f605-4dbd-ba01-8d5b3970e932",
   "metadata": {},
   "outputs": [],
   "source": [
    "# from previous experimentation\n",
    "NEG_WEIGHT = 1.9448173005219984\n",
    "POS_WEIGHT = 0.6730322580645162"
   ]
  },
  {
   "cell_type": "code",
   "execution_count": 21,
   "id": "0f961ec9-49a9-4ac9-ade5-3b83c9275d2d",
   "metadata": {},
   "outputs": [
    {
     "data": {
      "text/plain": [
       "(1.9448173005219984, 0.6730322580645162)"
      ]
     },
     "execution_count": 21,
     "metadata": {},
     "output_type": "execute_result"
    }
   ],
   "source": [
    "NEG_WEIGHT, POS_WEIGHT"
   ]
  },
  {
   "cell_type": "code",
   "execution_count": 22,
   "id": "b415a595-bf81-4c96-8d44-05effaf0dad3",
   "metadata": {},
   "outputs": [],
   "source": [
    "from torchvision.models import resnet18, ResNet18_Weights"
   ]
  },
  {
   "cell_type": "code",
   "execution_count": 25,
   "id": "313588ad-a530-42aa-b5ec-fa68759816c7",
   "metadata": {},
   "outputs": [],
   "source": [
    "# Choose a pre-trained model\n",
    "resnet_model = resnet18(weights=ResNet18_Weights.DEFAULT)\n",
    "\n",
    "#Freeze layers\n",
    "for param in resnet_model.parameters():\n",
    "    param.requires_grad = False"
   ]
  },
  {
   "cell_type": "code",
   "execution_count": 26,
   "id": "12421435-9f1a-44a8-8002-b701525c787b",
   "metadata": {
    "scrolled": true
   },
   "outputs": [
    {
     "data": {
      "text/plain": [
       "ResNet(\n",
       "  (conv1): Conv2d(3, 64, kernel_size=(7, 7), stride=(2, 2), padding=(3, 3), bias=False)\n",
       "  (bn1): BatchNorm2d(64, eps=1e-05, momentum=0.1, affine=True, track_running_stats=True)\n",
       "  (relu): ReLU(inplace=True)\n",
       "  (maxpool): MaxPool2d(kernel_size=3, stride=2, padding=1, dilation=1, ceil_mode=False)\n",
       "  (layer1): Sequential(\n",
       "    (0): BasicBlock(\n",
       "      (conv1): Conv2d(64, 64, kernel_size=(3, 3), stride=(1, 1), padding=(1, 1), bias=False)\n",
       "      (bn1): BatchNorm2d(64, eps=1e-05, momentum=0.1, affine=True, track_running_stats=True)\n",
       "      (relu): ReLU(inplace=True)\n",
       "      (conv2): Conv2d(64, 64, kernel_size=(3, 3), stride=(1, 1), padding=(1, 1), bias=False)\n",
       "      (bn2): BatchNorm2d(64, eps=1e-05, momentum=0.1, affine=True, track_running_stats=True)\n",
       "    )\n",
       "    (1): BasicBlock(\n",
       "      (conv1): Conv2d(64, 64, kernel_size=(3, 3), stride=(1, 1), padding=(1, 1), bias=False)\n",
       "      (bn1): BatchNorm2d(64, eps=1e-05, momentum=0.1, affine=True, track_running_stats=True)\n",
       "      (relu): ReLU(inplace=True)\n",
       "      (conv2): Conv2d(64, 64, kernel_size=(3, 3), stride=(1, 1), padding=(1, 1), bias=False)\n",
       "      (bn2): BatchNorm2d(64, eps=1e-05, momentum=0.1, affine=True, track_running_stats=True)\n",
       "    )\n",
       "  )\n",
       "  (layer2): Sequential(\n",
       "    (0): BasicBlock(\n",
       "      (conv1): Conv2d(64, 128, kernel_size=(3, 3), stride=(2, 2), padding=(1, 1), bias=False)\n",
       "      (bn1): BatchNorm2d(128, eps=1e-05, momentum=0.1, affine=True, track_running_stats=True)\n",
       "      (relu): ReLU(inplace=True)\n",
       "      (conv2): Conv2d(128, 128, kernel_size=(3, 3), stride=(1, 1), padding=(1, 1), bias=False)\n",
       "      (bn2): BatchNorm2d(128, eps=1e-05, momentum=0.1, affine=True, track_running_stats=True)\n",
       "      (downsample): Sequential(\n",
       "        (0): Conv2d(64, 128, kernel_size=(1, 1), stride=(2, 2), bias=False)\n",
       "        (1): BatchNorm2d(128, eps=1e-05, momentum=0.1, affine=True, track_running_stats=True)\n",
       "      )\n",
       "    )\n",
       "    (1): BasicBlock(\n",
       "      (conv1): Conv2d(128, 128, kernel_size=(3, 3), stride=(1, 1), padding=(1, 1), bias=False)\n",
       "      (bn1): BatchNorm2d(128, eps=1e-05, momentum=0.1, affine=True, track_running_stats=True)\n",
       "      (relu): ReLU(inplace=True)\n",
       "      (conv2): Conv2d(128, 128, kernel_size=(3, 3), stride=(1, 1), padding=(1, 1), bias=False)\n",
       "      (bn2): BatchNorm2d(128, eps=1e-05, momentum=0.1, affine=True, track_running_stats=True)\n",
       "    )\n",
       "  )\n",
       "  (layer3): Sequential(\n",
       "    (0): BasicBlock(\n",
       "      (conv1): Conv2d(128, 256, kernel_size=(3, 3), stride=(2, 2), padding=(1, 1), bias=False)\n",
       "      (bn1): BatchNorm2d(256, eps=1e-05, momentum=0.1, affine=True, track_running_stats=True)\n",
       "      (relu): ReLU(inplace=True)\n",
       "      (conv2): Conv2d(256, 256, kernel_size=(3, 3), stride=(1, 1), padding=(1, 1), bias=False)\n",
       "      (bn2): BatchNorm2d(256, eps=1e-05, momentum=0.1, affine=True, track_running_stats=True)\n",
       "      (downsample): Sequential(\n",
       "        (0): Conv2d(128, 256, kernel_size=(1, 1), stride=(2, 2), bias=False)\n",
       "        (1): BatchNorm2d(256, eps=1e-05, momentum=0.1, affine=True, track_running_stats=True)\n",
       "      )\n",
       "    )\n",
       "    (1): BasicBlock(\n",
       "      (conv1): Conv2d(256, 256, kernel_size=(3, 3), stride=(1, 1), padding=(1, 1), bias=False)\n",
       "      (bn1): BatchNorm2d(256, eps=1e-05, momentum=0.1, affine=True, track_running_stats=True)\n",
       "      (relu): ReLU(inplace=True)\n",
       "      (conv2): Conv2d(256, 256, kernel_size=(3, 3), stride=(1, 1), padding=(1, 1), bias=False)\n",
       "      (bn2): BatchNorm2d(256, eps=1e-05, momentum=0.1, affine=True, track_running_stats=True)\n",
       "    )\n",
       "  )\n",
       "  (layer4): Sequential(\n",
       "    (0): BasicBlock(\n",
       "      (conv1): Conv2d(256, 512, kernel_size=(3, 3), stride=(2, 2), padding=(1, 1), bias=False)\n",
       "      (bn1): BatchNorm2d(512, eps=1e-05, momentum=0.1, affine=True, track_running_stats=True)\n",
       "      (relu): ReLU(inplace=True)\n",
       "      (conv2): Conv2d(512, 512, kernel_size=(3, 3), stride=(1, 1), padding=(1, 1), bias=False)\n",
       "      (bn2): BatchNorm2d(512, eps=1e-05, momentum=0.1, affine=True, track_running_stats=True)\n",
       "      (downsample): Sequential(\n",
       "        (0): Conv2d(256, 512, kernel_size=(1, 1), stride=(2, 2), bias=False)\n",
       "        (1): BatchNorm2d(512, eps=1e-05, momentum=0.1, affine=True, track_running_stats=True)\n",
       "      )\n",
       "    )\n",
       "    (1): BasicBlock(\n",
       "      (conv1): Conv2d(512, 512, kernel_size=(3, 3), stride=(1, 1), padding=(1, 1), bias=False)\n",
       "      (bn1): BatchNorm2d(512, eps=1e-05, momentum=0.1, affine=True, track_running_stats=True)\n",
       "      (relu): ReLU(inplace=True)\n",
       "      (conv2): Conv2d(512, 512, kernel_size=(3, 3), stride=(1, 1), padding=(1, 1), bias=False)\n",
       "      (bn2): BatchNorm2d(512, eps=1e-05, momentum=0.1, affine=True, track_running_stats=True)\n",
       "    )\n",
       "  )\n",
       "  (avgpool): AdaptiveAvgPool2d(output_size=(1, 1))\n",
       "  (fc): Linear(in_features=512, out_features=1000, bias=True)\n",
       ")"
      ]
     },
     "execution_count": 26,
     "metadata": {},
     "output_type": "execute_result"
    }
   ],
   "source": [
    "resnet_model"
   ]
  },
  {
   "cell_type": "markdown",
   "id": "33d6f437-ad4b-4fe6-b573-5b73a5b81af0",
   "metadata": {},
   "source": [
    "Modifying the last fully connected layer to fit for this classification task; add sigmoid activation"
   ]
  },
  {
   "cell_type": "code",
   "execution_count": 27,
   "id": "8f8f8f34-c8f4-4f6c-b9a7-579987fb389c",
   "metadata": {},
   "outputs": [],
   "source": [
    "from torch import nn"
   ]
  },
  {
   "cell_type": "code",
   "execution_count": 28,
   "id": "22c3c970-9fbc-4d65-8555-ac3cb186476c",
   "metadata": {},
   "outputs": [],
   "source": [
    "num_classes = 1\n",
    "resnet_model.fc = torch.nn.Linear(resnet_model.fc.in_features, num_classes)"
   ]
  },
  {
   "cell_type": "code",
   "execution_count": 29,
   "id": "9e1ecdd9-7a9c-4f8d-aecf-97306b5d6161",
   "metadata": {
    "scrolled": true
   },
   "outputs": [],
   "source": [
    "resnet = resnet_model.to(DEVICE)"
   ]
  },
  {
   "cell_type": "code",
   "execution_count": 30,
   "id": "3492f5ec-c6e8-4738-a88e-82bec1f5f330",
   "metadata": {
    "scrolled": true
   },
   "outputs": [
    {
     "data": {
      "text/plain": [
       "ResNet(\n",
       "  (conv1): Conv2d(3, 64, kernel_size=(7, 7), stride=(2, 2), padding=(3, 3), bias=False)\n",
       "  (bn1): BatchNorm2d(64, eps=1e-05, momentum=0.1, affine=True, track_running_stats=True)\n",
       "  (relu): ReLU(inplace=True)\n",
       "  (maxpool): MaxPool2d(kernel_size=3, stride=2, padding=1, dilation=1, ceil_mode=False)\n",
       "  (layer1): Sequential(\n",
       "    (0): BasicBlock(\n",
       "      (conv1): Conv2d(64, 64, kernel_size=(3, 3), stride=(1, 1), padding=(1, 1), bias=False)\n",
       "      (bn1): BatchNorm2d(64, eps=1e-05, momentum=0.1, affine=True, track_running_stats=True)\n",
       "      (relu): ReLU(inplace=True)\n",
       "      (conv2): Conv2d(64, 64, kernel_size=(3, 3), stride=(1, 1), padding=(1, 1), bias=False)\n",
       "      (bn2): BatchNorm2d(64, eps=1e-05, momentum=0.1, affine=True, track_running_stats=True)\n",
       "    )\n",
       "    (1): BasicBlock(\n",
       "      (conv1): Conv2d(64, 64, kernel_size=(3, 3), stride=(1, 1), padding=(1, 1), bias=False)\n",
       "      (bn1): BatchNorm2d(64, eps=1e-05, momentum=0.1, affine=True, track_running_stats=True)\n",
       "      (relu): ReLU(inplace=True)\n",
       "      (conv2): Conv2d(64, 64, kernel_size=(3, 3), stride=(1, 1), padding=(1, 1), bias=False)\n",
       "      (bn2): BatchNorm2d(64, eps=1e-05, momentum=0.1, affine=True, track_running_stats=True)\n",
       "    )\n",
       "  )\n",
       "  (layer2): Sequential(\n",
       "    (0): BasicBlock(\n",
       "      (conv1): Conv2d(64, 128, kernel_size=(3, 3), stride=(2, 2), padding=(1, 1), bias=False)\n",
       "      (bn1): BatchNorm2d(128, eps=1e-05, momentum=0.1, affine=True, track_running_stats=True)\n",
       "      (relu): ReLU(inplace=True)\n",
       "      (conv2): Conv2d(128, 128, kernel_size=(3, 3), stride=(1, 1), padding=(1, 1), bias=False)\n",
       "      (bn2): BatchNorm2d(128, eps=1e-05, momentum=0.1, affine=True, track_running_stats=True)\n",
       "      (downsample): Sequential(\n",
       "        (0): Conv2d(64, 128, kernel_size=(1, 1), stride=(2, 2), bias=False)\n",
       "        (1): BatchNorm2d(128, eps=1e-05, momentum=0.1, affine=True, track_running_stats=True)\n",
       "      )\n",
       "    )\n",
       "    (1): BasicBlock(\n",
       "      (conv1): Conv2d(128, 128, kernel_size=(3, 3), stride=(1, 1), padding=(1, 1), bias=False)\n",
       "      (bn1): BatchNorm2d(128, eps=1e-05, momentum=0.1, affine=True, track_running_stats=True)\n",
       "      (relu): ReLU(inplace=True)\n",
       "      (conv2): Conv2d(128, 128, kernel_size=(3, 3), stride=(1, 1), padding=(1, 1), bias=False)\n",
       "      (bn2): BatchNorm2d(128, eps=1e-05, momentum=0.1, affine=True, track_running_stats=True)\n",
       "    )\n",
       "  )\n",
       "  (layer3): Sequential(\n",
       "    (0): BasicBlock(\n",
       "      (conv1): Conv2d(128, 256, kernel_size=(3, 3), stride=(2, 2), padding=(1, 1), bias=False)\n",
       "      (bn1): BatchNorm2d(256, eps=1e-05, momentum=0.1, affine=True, track_running_stats=True)\n",
       "      (relu): ReLU(inplace=True)\n",
       "      (conv2): Conv2d(256, 256, kernel_size=(3, 3), stride=(1, 1), padding=(1, 1), bias=False)\n",
       "      (bn2): BatchNorm2d(256, eps=1e-05, momentum=0.1, affine=True, track_running_stats=True)\n",
       "      (downsample): Sequential(\n",
       "        (0): Conv2d(128, 256, kernel_size=(1, 1), stride=(2, 2), bias=False)\n",
       "        (1): BatchNorm2d(256, eps=1e-05, momentum=0.1, affine=True, track_running_stats=True)\n",
       "      )\n",
       "    )\n",
       "    (1): BasicBlock(\n",
       "      (conv1): Conv2d(256, 256, kernel_size=(3, 3), stride=(1, 1), padding=(1, 1), bias=False)\n",
       "      (bn1): BatchNorm2d(256, eps=1e-05, momentum=0.1, affine=True, track_running_stats=True)\n",
       "      (relu): ReLU(inplace=True)\n",
       "      (conv2): Conv2d(256, 256, kernel_size=(3, 3), stride=(1, 1), padding=(1, 1), bias=False)\n",
       "      (bn2): BatchNorm2d(256, eps=1e-05, momentum=0.1, affine=True, track_running_stats=True)\n",
       "    )\n",
       "  )\n",
       "  (layer4): Sequential(\n",
       "    (0): BasicBlock(\n",
       "      (conv1): Conv2d(256, 512, kernel_size=(3, 3), stride=(2, 2), padding=(1, 1), bias=False)\n",
       "      (bn1): BatchNorm2d(512, eps=1e-05, momentum=0.1, affine=True, track_running_stats=True)\n",
       "      (relu): ReLU(inplace=True)\n",
       "      (conv2): Conv2d(512, 512, kernel_size=(3, 3), stride=(1, 1), padding=(1, 1), bias=False)\n",
       "      (bn2): BatchNorm2d(512, eps=1e-05, momentum=0.1, affine=True, track_running_stats=True)\n",
       "      (downsample): Sequential(\n",
       "        (0): Conv2d(256, 512, kernel_size=(1, 1), stride=(2, 2), bias=False)\n",
       "        (1): BatchNorm2d(512, eps=1e-05, momentum=0.1, affine=True, track_running_stats=True)\n",
       "      )\n",
       "    )\n",
       "    (1): BasicBlock(\n",
       "      (conv1): Conv2d(512, 512, kernel_size=(3, 3), stride=(1, 1), padding=(1, 1), bias=False)\n",
       "      (bn1): BatchNorm2d(512, eps=1e-05, momentum=0.1, affine=True, track_running_stats=True)\n",
       "      (relu): ReLU(inplace=True)\n",
       "      (conv2): Conv2d(512, 512, kernel_size=(3, 3), stride=(1, 1), padding=(1, 1), bias=False)\n",
       "      (bn2): BatchNorm2d(512, eps=1e-05, momentum=0.1, affine=True, track_running_stats=True)\n",
       "    )\n",
       "  )\n",
       "  (avgpool): AdaptiveAvgPool2d(output_size=(1, 1))\n",
       "  (fc): Linear(in_features=512, out_features=1, bias=True)\n",
       ")"
      ]
     },
     "execution_count": 30,
     "metadata": {},
     "output_type": "execute_result"
    }
   ],
   "source": [
    "resnet"
   ]
  },
  {
   "cell_type": "markdown",
   "id": "32d17810-4b8f-4647-b0c3-9b12aeb077f1",
   "metadata": {},
   "source": [
    "### Modeling helper functions"
   ]
  },
  {
   "cell_type": "code",
   "execution_count": 31,
   "id": "7290820e-5e0a-4f70-86e3-ab579556523b",
   "metadata": {},
   "outputs": [],
   "source": [
    "from tqdm import tqdm"
   ]
  },
  {
   "cell_type": "code",
   "execution_count": 32,
   "id": "d8d75669-7110-48f3-8c0a-9a66f095c58d",
   "metadata": {},
   "outputs": [],
   "source": [
    "def save_model(model_name, epochs, model, optimizer, criterion):\n",
    "    \"\"\"\n",
    "    Function to save the trained model to disk.\n",
    "    \"\"\"\n",
    "    torch.save({\n",
    "                \"epoch\": epochs,\n",
    "                \"model_state_dict\": model.state_dict(),\n",
    "                \"optimizer_state_dict\": optimizer.state_dict(),\n",
    "                \"loss\": criterion,\n",
    "                },\n",
    "                MODEL_DIR / model_name)"
   ]
  },
  {
   "cell_type": "code",
   "execution_count": 33,
   "id": "a6712cc3-42d0-4d35-ad97-7d18ca7e5609",
   "metadata": {},
   "outputs": [],
   "source": [
    "def save_plots(model_name, train_acc, valid_acc, train_loss, valid_loss, train_recall, valid_recall):\n",
    "    \"\"\"\n",
    "    Function to save the loss and accuracy plots to disk.\n",
    "    \"\"\"\n",
    "    save_dir = PLOT_DIR/model_name\n",
    "    os.makedirs(save_dir, exist_ok=True)\n",
    "    \n",
    "    # accuracy plots\n",
    "    plt.figure(figsize=(10, 7))\n",
    "    plt.plot(\n",
    "        train_acc, color=\"green\", linestyle=\"-\", \n",
    "        label=\"train accuracy\"\n",
    "    )\n",
    "    plt.plot(\n",
    "        valid_acc, color=\"blue\", linestyle=\"-\", \n",
    "        label=\"validation accuracy\"\n",
    "    )\n",
    "    plt.xlabel(\"Epochs\")\n",
    "    plt.ylabel(\"Accuracy\")\n",
    "    plt.legend()\n",
    "    plt.savefig(save_dir / \"accuracy.png\")\n",
    "    \n",
    "    # loss plots\n",
    "    plt.figure(figsize=(10, 7))\n",
    "    plt.plot(\n",
    "        train_loss, color=\"orange\", linestyle=\"-\", \n",
    "        label=\"train loss\"\n",
    "    )\n",
    "    plt.plot(\n",
    "        valid_loss, color=\"red\", linestyle=\"-\", \n",
    "        label=\"validation loss\"\n",
    "    )\n",
    "    plt.xlabel(\"Epochs\")\n",
    "    plt.ylabel(\"Loss\")\n",
    "    plt.legend()\n",
    "    plt.savefig(save_dir / \"loss.png\")\n",
    "\n",
    "    # loss plots\n",
    "    plt.figure(figsize=(10, 7))\n",
    "    plt.plot(\n",
    "        train_loss, color=\"purple\", linestyle=\"-\", \n",
    "        label=\"train recall\"\n",
    "    )\n",
    "    plt.plot(\n",
    "        valid_loss, color=\"brown\", linestyle=\"-\", \n",
    "        label=\"validation recall\"\n",
    "    )\n",
    "    plt.xlabel(\"Epochs\")\n",
    "    plt.ylabel(\"Recall\")\n",
    "    plt.legend()\n",
    "    plt.savefig(save_dir / \"recall.png\")"
   ]
  },
  {
   "cell_type": "markdown",
   "id": "58fb2e0b-9d5a-4fdb-a1fa-cba1c9f30614",
   "metadata": {},
   "source": [
    "### Note on the metric\n",
    "\n",
    "In medical field missing a true positive (eg: a disease or condition) can have detrimental consequences, so the emphasis should be put on _Recall_.\n",
    "\n",
    "Using __Weighted BinaryCrossEntropy loss, weighted accuracy and weighted recall scores__ as metrics."
   ]
  },
  {
   "cell_type": "code",
   "execution_count": 34,
   "id": "a5dde31a-4798-46c2-914d-ba7521dfaf57",
   "metadata": {},
   "outputs": [],
   "source": [
    "from sklearn.metrics import balanced_accuracy_score, recall_score"
   ]
  },
  {
   "cell_type": "code",
   "execution_count": 35,
   "id": "0098b9f0-314d-4267-a90a-eaec5b1c7170",
   "metadata": {},
   "outputs": [],
   "source": [
    "sigmoid = nn.Sigmoid()"
   ]
  },
  {
   "cell_type": "code",
   "execution_count": 36,
   "id": "32d71618-9b73-42f1-8bdb-71f70148b502",
   "metadata": {},
   "outputs": [],
   "source": [
    "def train(model, trainloader, optimizer, criterion, device):\n",
    "    \"\"\"trains the model on defined params per epoch and computes the loss/accuracy\"\"\"\n",
    "    \n",
    "    model.train()\n",
    "    print(\"Training\")\n",
    "\n",
    "    # define variables for computing metrics\n",
    "    train_running_loss = 0.0\n",
    "    all_train_labels = []\n",
    "    all_train_preds = []\n",
    "    counter = 0\n",
    "    \n",
    "    for i, data in tqdm(enumerate(trainloader), total=len(trainloader)):\n",
    "        counter += 1\n",
    "\n",
    "        # fetch batch images and labels\n",
    "        images, labels = data\n",
    "        images = images.float().to(device)\n",
    "        labels = labels.view(-1,1).float().to(device)\n",
    "        weights = torch.where(labels==1, POS_WEIGHT, NEG_WEIGHT).view(-1, 1).to(device)\n",
    "        \n",
    "        # forward pass\n",
    "        optimizer.zero_grad()\n",
    "        outputs = model(images)\n",
    "        \n",
    "        # calculate the loss\n",
    "        loss = criterion(outputs, labels)\n",
    "        loss = (loss * weights).mean()\n",
    "        train_running_loss += loss.item()\n",
    "        \n",
    "        # calculate the accuracy\n",
    "        preds = sigmoid(outputs).round() # round the sigmoid activation values.\n",
    "        \n",
    "        # backpropagation\n",
    "        loss.backward()\n",
    "        \n",
    "        # update the optimizer parameters\n",
    "        optimizer.step()\n",
    "\n",
    "        # append the y and y_hat\n",
    "        all_train_labels.extend(preds.squeeze().detach().to(\"cpu\").numpy())\n",
    "        all_train_preds.extend(labels.squeeze().detach().to(\"cpu\").numpy())\n",
    "    \n",
    "    # loss and accuracy for the complete epoch\n",
    "    epoch_loss = train_running_loss / counter\n",
    "    weighted_epoch_acc = balanced_accuracy_score(all_train_labels, all_train_preds)\n",
    "    weighted_recall_score = recall_score(all_train_labels, all_train_preds, average=\"weighted\")\n",
    "    return epoch_loss, weighted_epoch_acc, weighted_recall_score"
   ]
  },
  {
   "cell_type": "code",
   "execution_count": 37,
   "id": "ea6b2b56-1213-40a3-9408-72eb49e9e874",
   "metadata": {},
   "outputs": [],
   "source": [
    "# validation\n",
    "def validate(model, testloader, criterion, device):\n",
    "    \"\"\"validate the model on validation set per epoch and compute metrics\"\"\"\n",
    "    \n",
    "    model.eval()\n",
    "    print('Validation')\n",
    "    \n",
    "    valid_running_loss = 0.0\n",
    "    all_val_labels = []\n",
    "    all_val_preds = []\n",
    "    counter = 0\n",
    "    \n",
    "    with torch.no_grad():\n",
    "        for i, data in tqdm(enumerate(testloader), total=len(testloader)):\n",
    "            counter += 1\n",
    "            \n",
    "            images, labels = data\n",
    "            images = images.float().to(device)\n",
    "            labels = labels.view(-1,1).float().to(device)\n",
    "            weights = torch.where(labels==1, POS_WEIGHT, NEG_WEIGHT).view(-1, 1).to(device)\n",
    "            \n",
    "            \n",
    "            # forward pass\n",
    "            outputs = model(images)\n",
    "            \n",
    "            # calculate the loss\n",
    "            loss = criterion(outputs, labels) \n",
    "            loss = (loss * weights).mean()\n",
    "            valid_running_loss += loss.item()\n",
    "            \n",
    "            # calculate the accuracy\n",
    "            preds = sigmoid(outputs).round()\n",
    "            all_val_labels.extend(labels.squeeze().to(\"cpu\").numpy())\n",
    "            all_val_preds.extend(preds.squeeze().to(\"cpu\").numpy())\n",
    "            \n",
    "    # loss and accuracy for the complete epoch\n",
    "    epoch_loss = valid_running_loss / counter\n",
    "    weighted_epoch_acc = balanced_accuracy_score(all_val_labels, all_val_preds)\n",
    "    weighted_recall_score = recall_score(all_val_labels, all_val_preds, average=\"weighted\")\n",
    "    return epoch_loss, weighted_epoch_acc, weighted_recall_score"
   ]
  },
  {
   "cell_type": "markdown",
   "id": "b7e64627-ea4b-4414-a21e-fba3a232e05b",
   "metadata": {},
   "source": [
    "### Get the required params for training"
   ]
  },
  {
   "cell_type": "markdown",
   "id": "65d21055-2a63-4b9a-a72e-2a7f06d41310",
   "metadata": {},
   "source": [
    "Let's set the loss_function and optimizer for training the model.\n",
    "Resoring to `BCELoss` and `SGD` optimizer."
   ]
  },
  {
   "cell_type": "code",
   "execution_count": 38,
   "id": "9dbadc6d-e7ca-427a-b5ac-5871f3442dd6",
   "metadata": {},
   "outputs": [],
   "source": [
    "criterion = nn.BCEWithLogitsLoss(reduction='none;)\n",
    "optimizer = torch.optim.SGD(resnet_model.parameters(), lr=LEARNING_RATE, weight_decay=0.05, momentum=0.9)"
   ]
  },
  {
   "cell_type": "markdown",
   "id": "9dc19c1f-8e37-401a-93ce-a750a20724ee",
   "metadata": {},
   "source": [
    "### Training loop\n",
    "\n",
    "Finally the main event, training of the model with the X-ray dataset."
   ]
  },
  {
   "cell_type": "code",
   "execution_count": 39,
   "id": "e54adbc8-6976-423f-8870-34602144595f",
   "metadata": {},
   "outputs": [
    {
     "name": "stdout",
     "output_type": "stream",
     "text": [
      "[INFO]: Epoch 1 of 10\n",
      "Training\n"
     ]
    },
    {
     "name": "stderr",
     "output_type": "stream",
     "text": [
      "100%|█████████████████████████████████████████████████████████████████████████████████████████████████████████████████████████████████████████████████████████| 163/163 [02:28<00:00,  1.10it/s]\n"
     ]
    },
    {
     "name": "stdout",
     "output_type": "stream",
     "text": [
      "Validation\n"
     ]
    },
    {
     "name": "stderr",
     "output_type": "stream",
     "text": [
      "100%|█████████████████████████████████████████████████████████████████████████████████████████████████████████████████████████████████████████████████████████████| 1/1 [00:00<00:00,  3.99it/s]\n"
     ]
    },
    {
     "name": "stdout",
     "output_type": "stream",
     "text": [
      "Training loss: 0.365, training acc: 0.812, training recall: 0.858\n",
      "Validation loss: 0.481, validation acc: 0.875, validation recall: 0.875\n",
      "--------------------------------------------------\n",
      "[INFO]: Epoch 2 of 10\n",
      "Training\n"
     ]
    },
    {
     "name": "stderr",
     "output_type": "stream",
     "text": [
      "100%|█████████████████████████████████████████████████████████████████████████████████████████████████████████████████████████████████████████████████████████| 163/163 [02:20<00:00,  1.16it/s]\n"
     ]
    },
    {
     "name": "stdout",
     "output_type": "stream",
     "text": [
      "Validation\n"
     ]
    },
    {
     "name": "stderr",
     "output_type": "stream",
     "text": [
      "100%|█████████████████████████████████████████████████████████████████████████████████████████████████████████████████████████████████████████████████████████████| 1/1 [00:00<00:00,  4.36it/s]\n"
     ]
    },
    {
     "name": "stdout",
     "output_type": "stream",
     "text": [
      "Training loss: 0.246, training acc: 0.872, training recall: 0.910\n",
      "Validation loss: 0.395, validation acc: 0.938, validation recall: 0.938\n",
      "--------------------------------------------------\n",
      "[INFO]: Epoch 3 of 10\n",
      "Training\n"
     ]
    },
    {
     "name": "stderr",
     "output_type": "stream",
     "text": [
      "100%|█████████████████████████████████████████████████████████████████████████████████████████████████████████████████████████████████████████████████████████| 163/163 [02:14<00:00,  1.21it/s]\n"
     ]
    },
    {
     "name": "stdout",
     "output_type": "stream",
     "text": [
      "Validation\n"
     ]
    },
    {
     "name": "stderr",
     "output_type": "stream",
     "text": [
      "100%|█████████████████████████████████████████████████████████████████████████████████████████████████████████████████████████████████████████████████████████████| 1/1 [00:00<00:00,  4.54it/s]\n"
     ]
    },
    {
     "name": "stdout",
     "output_type": "stream",
     "text": [
      "Training loss: 0.225, training acc: 0.875, training recall: 0.913\n",
      "Validation loss: 0.312, validation acc: 0.938, validation recall: 0.938\n",
      "--------------------------------------------------\n",
      "[INFO]: Epoch 4 of 10\n",
      "Training\n"
     ]
    },
    {
     "name": "stderr",
     "output_type": "stream",
     "text": [
      "100%|█████████████████████████████████████████████████████████████████████████████████████████████████████████████████████████████████████████████████████████| 163/163 [02:17<00:00,  1.18it/s]\n"
     ]
    },
    {
     "name": "stdout",
     "output_type": "stream",
     "text": [
      "Validation\n"
     ]
    },
    {
     "name": "stderr",
     "output_type": "stream",
     "text": [
      "100%|█████████████████████████████████████████████████████████████████████████████████████████████████████████████████████████████████████████████████████████████| 1/1 [00:00<00:00,  4.82it/s]\n"
     ]
    },
    {
     "name": "stdout",
     "output_type": "stream",
     "text": [
      "Training loss: 0.210, training acc: 0.883, training recall: 0.920\n",
      "Validation loss: 0.420, validation acc: 0.875, validation recall: 0.875\n",
      "--------------------------------------------------\n",
      "[INFO]: Epoch 5 of 10\n",
      "Training\n"
     ]
    },
    {
     "name": "stderr",
     "output_type": "stream",
     "text": [
      "100%|█████████████████████████████████████████████████████████████████████████████████████████████████████████████████████████████████████████████████████████| 163/163 [02:15<00:00,  1.20it/s]\n"
     ]
    },
    {
     "name": "stdout",
     "output_type": "stream",
     "text": [
      "Validation\n"
     ]
    },
    {
     "name": "stderr",
     "output_type": "stream",
     "text": [
      "100%|█████████████████████████████████████████████████████████████████████████████████████████████████████████████████████████████████████████████████████████████| 1/1 [00:00<00:00,  5.41it/s]\n"
     ]
    },
    {
     "name": "stdout",
     "output_type": "stream",
     "text": [
      "Training loss: 0.205, training acc: 0.887, training recall: 0.922\n",
      "Validation loss: 0.296, validation acc: 0.938, validation recall: 0.938\n",
      "--------------------------------------------------\n",
      "[INFO]: Epoch 6 of 10\n",
      "Training\n"
     ]
    },
    {
     "name": "stderr",
     "output_type": "stream",
     "text": [
      "100%|█████████████████████████████████████████████████████████████████████████████████████████████████████████████████████████████████████████████████████████| 163/163 [02:15<00:00,  1.20it/s]\n"
     ]
    },
    {
     "name": "stdout",
     "output_type": "stream",
     "text": [
      "Validation\n"
     ]
    },
    {
     "name": "stderr",
     "output_type": "stream",
     "text": [
      "100%|█████████████████████████████████████████████████████████████████████████████████████████████████████████████████████████████████████████████████████████████| 1/1 [00:00<00:00,  5.18it/s]\n"
     ]
    },
    {
     "name": "stdout",
     "output_type": "stream",
     "text": [
      "Training loss: 0.199, training acc: 0.890, training recall: 0.925\n",
      "Validation loss: 0.332, validation acc: 0.875, validation recall: 0.875\n",
      "--------------------------------------------------\n",
      "[INFO]: Epoch 7 of 10\n",
      "Training\n"
     ]
    },
    {
     "name": "stderr",
     "output_type": "stream",
     "text": [
      "100%|█████████████████████████████████████████████████████████████████████████████████████████████████████████████████████████████████████████████████████████| 163/163 [02:11<00:00,  1.24it/s]\n"
     ]
    },
    {
     "name": "stdout",
     "output_type": "stream",
     "text": [
      "Validation\n"
     ]
    },
    {
     "name": "stderr",
     "output_type": "stream",
     "text": [
      "100%|█████████████████████████████████████████████████████████████████████████████████████████████████████████████████████████████████████████████████████████████| 1/1 [00:00<00:00,  5.02it/s]\n"
     ]
    },
    {
     "name": "stdout",
     "output_type": "stream",
     "text": [
      "Training loss: 0.194, training acc: 0.892, training recall: 0.926\n",
      "Validation loss: 0.321, validation acc: 0.938, validation recall: 0.938\n",
      "--------------------------------------------------\n",
      "[INFO]: Epoch 8 of 10\n",
      "Training\n"
     ]
    },
    {
     "name": "stderr",
     "output_type": "stream",
     "text": [
      "100%|█████████████████████████████████████████████████████████████████████████████████████████████████████████████████████████████████████████████████████████| 163/163 [02:17<00:00,  1.19it/s]\n"
     ]
    },
    {
     "name": "stdout",
     "output_type": "stream",
     "text": [
      "Validation\n"
     ]
    },
    {
     "name": "stderr",
     "output_type": "stream",
     "text": [
      "100%|█████████████████████████████████████████████████████████████████████████████████████████████████████████████████████████████████████████████████████████████| 1/1 [00:00<00:00,  5.05it/s]\n"
     ]
    },
    {
     "name": "stdout",
     "output_type": "stream",
     "text": [
      "Training loss: 0.192, training acc: 0.892, training recall: 0.927\n",
      "Validation loss: 0.331, validation acc: 0.875, validation recall: 0.875\n",
      "--------------------------------------------------\n",
      "[INFO]: Epoch 9 of 10\n",
      "Training\n"
     ]
    },
    {
     "name": "stderr",
     "output_type": "stream",
     "text": [
      "100%|█████████████████████████████████████████████████████████████████████████████████████████████████████████████████████████████████████████████████████████| 163/163 [02:18<00:00,  1.18it/s]\n"
     ]
    },
    {
     "name": "stdout",
     "output_type": "stream",
     "text": [
      "Validation\n"
     ]
    },
    {
     "name": "stderr",
     "output_type": "stream",
     "text": [
      "100%|█████████████████████████████████████████████████████████████████████████████████████████████████████████████████████████████████████████████████████████████| 1/1 [00:00<00:00,  4.86it/s]\n"
     ]
    },
    {
     "name": "stdout",
     "output_type": "stream",
     "text": [
      "Training loss: 0.188, training acc: 0.899, training recall: 0.932\n",
      "Validation loss: 0.320, validation acc: 0.875, validation recall: 0.875\n",
      "--------------------------------------------------\n",
      "[INFO]: Epoch 10 of 10\n",
      "Training\n"
     ]
    },
    {
     "name": "stderr",
     "output_type": "stream",
     "text": [
      "100%|█████████████████████████████████████████████████████████████████████████████████████████████████████████████████████████████████████████████████████████| 163/163 [02:19<00:00,  1.17it/s]\n"
     ]
    },
    {
     "name": "stdout",
     "output_type": "stream",
     "text": [
      "Validation\n"
     ]
    },
    {
     "name": "stderr",
     "output_type": "stream",
     "text": [
      "100%|█████████████████████████████████████████████████████████████████████████████████████████████████████████████████████████████████████████████████████████████| 1/1 [00:00<00:00,  4.65it/s]"
     ]
    },
    {
     "name": "stdout",
     "output_type": "stream",
     "text": [
      "Training loss: 0.192, training acc: 0.894, training recall: 0.928\n",
      "Validation loss: 0.328, validation acc: 0.875, validation recall: 0.875\n",
      "--------------------------------------------------\n"
     ]
    },
    {
     "name": "stderr",
     "output_type": "stream",
     "text": [
      "\n"
     ]
    }
   ],
   "source": [
    "# training loop\n",
    "\n",
    "train_loss, valid_loss = [], []\n",
    "train_acc, valid_acc = [], []\n",
    "train_recall, valid_recall = [], []\n",
    "\n",
    "# start the training\n",
    "for epoch in range(EPOCHS):\n",
    "    print(f\"[INFO]: Epoch {epoch+1} of {EPOCHS}\")\n",
    "    train_epoch_loss, train_epoch_acc, train_epoch_recall = train(resnet_model, train_loader, \n",
    "                                                  optimizer, criterion, DEVICE)\n",
    "    valid_epoch_loss, valid_epoch_acc, valid_epoch_recall = validate(resnet_model, val_loader,  \n",
    "                                                     criterion, DEVICE)\n",
    "    train_loss.append(train_epoch_loss)\n",
    "    valid_loss.append(valid_epoch_loss)\n",
    "    train_acc.append(train_epoch_acc)\n",
    "    valid_acc.append(valid_epoch_acc)\n",
    "    train_recall.append(train_epoch_recall)\n",
    "    valid_recall.append(valid_epoch_recall)\n",
    "    print(f\"Training loss: {train_epoch_loss:.3f}, training acc: {train_epoch_acc:.3f}, training recall: {train_epoch_recall:.3f}\")\n",
    "    print(f\"Validation loss: {valid_epoch_loss:.3f}, validation acc: {valid_epoch_acc:.3f}, validation recall: {valid_epoch_recall:.3f}\")\n",
    "    print('-'*50)"
   ]
  },
  {
   "cell_type": "code",
   "execution_count": 40,
   "id": "7c3f6c9f-9019-4d48-90bb-96fc7bd2dbae",
   "metadata": {},
   "outputs": [
    {
     "name": "stdout",
     "output_type": "stream",
     "text": [
      "TRAINING COMPLETE\n"
     ]
    },
    {
     "data": {
      "image/png": "[encoded data removed]",
      "text/plain": [
       "<Figure size 1000x700 with 1 Axes>"
      ]
     },
     "metadata": {},
     "output_type": "display_data"
    },
    {
     "data": {
      "image/png": "[encoded data removed]",
      "text/plain": [
       "<Figure size 1000x700 with 1 Axes>"
      ]
     },
     "metadata": {},
     "output_type": "display_data"
    },
    {
     "data": {
      "image/png": "[encoded data removed]",
      "text/plain": [
       "<Figure size 1000x700 with 1 Axes>"
      ]
     },
     "metadata": {},
     "output_type": "display_data"
    }
   ],
   "source": [
    "# save the trained model weights\n",
    "save_model(\"resnet_transfer.pth\", EPOCHS, resnet_model, optimizer, criterion)\n",
    "# save the loss and accuracy plots\n",
    "save_plots(\"resnet_transfer\", train_acc, valid_acc, train_loss, valid_loss, train_recall, valid_recall)\n",
    "print('TRAINING COMPLETE')"
   ]
  },
  {
   "cell_type": "markdown",
   "id": "4ee69b1a-3d63-426b-91e4-47ac3272e5fc",
   "metadata": {},
   "source": [
    "## Evaluation <a id=\"evaluation\"></a>"
   ]
  },
  {
   "cell_type": "markdown",
   "id": "d20da101-f6e3-4d31-abf5-43d8e9eabbf7",
   "metadata": {},
   "source": [
    "Using `classification_report` from sklearn for evaluation of the model's performance."
   ]
  },
  {
   "cell_type": "code",
   "execution_count": 41,
   "id": "0a2b9b65-dc46-4e20-8569-cb0df1aca916",
   "metadata": {},
   "outputs": [],
   "source": [
    "from sklearn.metrics import classification_report"
   ]
  },
  {
   "cell_type": "markdown",
   "id": "ed92a460-c034-4033-96c0-1fc0a88712a1",
   "metadata": {},
   "source": [
    "### Compute the testing loop and metrics computation"
   ]
  },
  {
   "cell_type": "code",
   "execution_count": 42,
   "id": "4523ce15-45ee-4609-a99a-df36a7726e0d",
   "metadata": {},
   "outputs": [],
   "source": [
    "total_loss = 0.0\n",
    "all_preds = []\n",
    "all_labels = []\n",
    "\n",
    "with torch.no_grad():\n",
    "    for inputs, labels in test_loader:\n",
    "        weights = torch.where(labels==1, POS_WEIGHT, NEG_WEIGHT).view(-1,1).to(DEVICE)\n",
    "        \n",
    "        outputs = resnet_model(inputs.to(DEVICE))\n",
    "        labels = labels.view(-1,1).float().to(DEVICE)\n",
    "        loss = criterion(outputs, labels)\n",
    "        loss = (weights * loss).mean()\n",
    "        \n",
    "        total_loss += loss.item()\n",
    "\n",
    "        preds = sigmoid(outputs).round()\n",
    "\n",
    "        all_labels.extend(labels.squeeze().to('cpu').numpy())\n",
    "        all_preds.extend(preds.squeeze().to('cpu').numpy())\n"
   ]
  },
  {
   "cell_type": "code",
   "execution_count": 43,
   "id": "45bf3085-b938-499f-a0f7-a9fd0ec4b337",
   "metadata": {},
   "outputs": [
    {
     "name": "stdout",
     "output_type": "stream",
     "text": [
      "Average Test Loss: 0.0064\n"
     ]
    }
   ],
   "source": [
    "average_loss = total_loss / len(test_loader.dataset)\n",
    "\n",
    "print(f'Average Test Loss: {average_loss:.4f}')"
   ]
  },
  {
   "cell_type": "code",
   "execution_count": 44,
   "id": "29eeb5e6-1412-4246-8b11-be8ac0c57d8c",
   "metadata": {},
   "outputs": [
    {
     "name": "stdout",
     "output_type": "stream",
     "text": [
      "              precision    recall  f1-score   support\n",
      "\n",
      "      NORMAL       0.87      0.82      0.84       234\n",
      "   PNEUMONIA       0.90      0.93      0.91       390\n",
      "\n",
      "    accuracy                           0.89       624\n",
      "   macro avg       0.88      0.87      0.88       624\n",
      "weighted avg       0.89      0.89      0.89       624\n",
      "\n"
     ]
    }
   ],
   "source": [
    "print(classification_report(all_labels, all_preds, target_names = test_loader.dataset.classes))"
   ]
  },
  {
   "cell_type": "code",
   "execution_count": 46,
   "id": "2971c3fd-7253-4b8c-bb83-7437199b419f",
   "metadata": {},
   "outputs": [
    {
     "data": {
      "text/plain": [
       "0.8730769230769231"
      ]
     },
     "execution_count": 46,
     "metadata": {},
     "output_type": "execute_result"
    }
   ],
   "source": [
    "balanced_accuracy_score(all_labels, all_preds)"
   ]
  },
  {
   "cell_type": "markdown",
   "id": "486586a4-ae46-4a89-b444-fadc2c1f4e96",
   "metadata": {},
   "source": [
    "## Conclusion\n",
    "Using resampling and transfer learning on ResNet18 model, our new fine-tuned model has improved from 82% to 87%! Nevertheless, there is room for improvement, but I won't be re-experimenting over this dataset for now.\n"
   ]
  }
 ],
 "metadata": {
  "kernelspec": {
   "display_name": "chest_xray_classification",
   "language": "python",
   "name": "chest_xray_classification"
  },
  "language_info": {
   "codemirror_mode": {
    "name": "ipython",
    "version": 3
   },
   "file_extension": ".py",
   "mimetype": "text/x-python",
   "name": "python",
   "nbconvert_exporter": "python",
   "pygments_lexer": "ipython3",
   "version": "3.10.11"
  }
 },
 "nbformat": 4,
 "nbformat_minor": 5
}
